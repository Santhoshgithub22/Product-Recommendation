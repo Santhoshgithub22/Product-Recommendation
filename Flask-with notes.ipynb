{
 "cells": [
  {
   "cell_type": "code",
   "execution_count": 1,
   "id": "d184b2b2",
   "metadata": {},
   "outputs": [],
   "source": [
    "import pandas as pd\n",
    "import pickle\n",
    "from flask import Flask, render_template, request\n",
    "\n",
    "\n",
    "app = Flask(__name__)\n",
    "prod_ranking_model = pickle.load(open('prod_ranking_model.pkl','rb'))\n",
    "cust_prod_ranking_model = pickle.load(open('cust_prod_ranking_model.pkl','rb'))\n",
    "cust_correlation_model = pickle.load(open('cust_correlation_model.pkl','rb'))\n",
    "prod_correlation_model = pickle.load(open('prod_correlation_model.pkl','rb'))"
   ]
  },
  {
   "cell_type": "markdown",
   "id": "c9e15cf1",
   "metadata": {},
   "source": [
    "# HTML code for displaying tables"
   ]
  },
  {
   "cell_type": "code",
   "execution_count": 2,
   "id": "b0eb2939",
   "metadata": {},
   "outputs": [],
   "source": [
    "# This function structures the HTML code for displaying the table on website\n",
    "def html_code_table(prod_df,table_name,file_name,side):\n",
    "    table_style = '<table style=\"border: 2px solid; float: ' + side + '; width: 40%;\">'\n",
    "    table_head = '<caption style=\"font-size: 160%; font-weight: bold;\"><strong>' + table_name + '</strong></caption>'\n",
    "    table_head_row = '<tr><th>Product Name</th><th>Price (in Rs.)</th></tr>'\n",
    "    \n",
    "    html_code = table_style + table_head + table_head_row\n",
    "    \n",
    "    for i in range(len(prod_df.index)):\n",
    "        row = '<tr><td>' + str(prod_df['Product'][i]) + '</td><td>' + str(prod_df['Rate'][i]) + '</td></tr>'\n",
    "        html_code = html_code + row\n",
    "        \n",
    "    html_code = html_code + '</table>'\n",
    "    \n",
    "    file_path = \"C:\\Users\\santhoshkumar.m\\Product Recommendation\\templates\"\n",
    "    #file_path = \"C:/Users/prths/Desktop/Girish/Data Science/Capstone Project/templates/\"\n",
    "    hs = open(file_path + file_name + '.html', 'w')\n",
    "    hs.write(html_code)\n",
    "    \n",
    "    #print(html_code)"
   ]
  },
  {
   "cell_type": "markdown",
   "id": "af492aef",
   "metadata": {},
   "source": [
    "# Most popular and top selling products"
   ]
  },
  {
   "cell_type": "code",
   "execution_count": 3,
   "id": "ea27d3e4",
   "metadata": {},
   "outputs": [],
   "source": [
    "# This function calls the html_code_table function to create a .html file for Most Popular Products\n",
    "def most_popular_table():\n",
    "    most_popular_prods = prod_ranking_model.sort_values('Popularity_Rank',ascending=True)[['Product','Rate']].head(10).reset_index(drop=True)\n",
    "    \n",
    "    html_code_table(most_popular_prods,'Most Popular Products','mostpopulartable','left')\n",
    "\n",
    "# This function calls the html_code_table function to create a .html file for Top Selling Products\n",
    "def top_sell_table():\n",
    "    top_sell_prods = prod_ranking_model.sort_values('Top_Sell_Rank',ascending=True)[['Product','Rate']].head(10).reset_index(drop=True)\n",
    "    \n",
    "    html_code_table(top_sell_prods,'Top Selling Products','topselltable','right')"
   ]
  },
  {
   "cell_type": "markdown",
   "id": "3b64f0a5",
   "metadata": {},
   "source": [
    "# Customer frequently purchased and purchased the most product"
   ]
  },
  {
   "cell_type": "code",
   "execution_count": 4,
   "id": "cb18698d",
   "metadata": {},
   "outputs": [],
   "source": [
    "# This function calls the html_code_table function to create a .html file for Most Popular Products of a Customer\n",
    "def cust_most_popular_table(cust_name):\n",
    "    cust_most_popular_prods = cust_prod_ranking_model[cust_prod_ranking_model['Party'] == cust_name]\n",
    "    cust_most_popular_prods = cust_most_popular_prods.sort_values('Popularity_Rank',ascending=True)[['Product','Rate']].head(10).reset_index(drop=True)\n",
    "    \n",
    "    html_code_table(cust_most_popular_prods,'Products you Frequently Purchased','custmostpopulartable','left')\n",
    "\n",
    "# This function calls the html_code_table function to create a .html file for Top Selling Products of a Customer\n",
    "def cust_top_sell_table(cust_name):\n",
    "    cust_top_sell_prods = cust_prod_ranking_model[cust_prod_ranking_model['Party'] == cust_name]\n",
    "    cust_top_sell_prods = cust_top_sell_prods.sort_values('Top_Sell_Rank',ascending=True)[['Product','Rate']].head(10).reset_index(drop=True)\n",
    "    \n",
    "    #print(cust_top_sell_prods)\n",
    "    html_code_table(cust_top_sell_prods,'Products you Purchased the Most','custtopselltable','right')"
   ]
  },
  {
   "cell_type": "markdown",
   "id": "0fb6a62a",
   "metadata": {},
   "source": [
    "# Product customer may like"
   ]
  },
  {
   "cell_type": "code",
   "execution_count": 5,
   "id": "65f5d9bb",
   "metadata": {},
   "outputs": [],
   "source": [
    "# This function performs the below functionality for the input customer\n",
    "# - get the list of customers with similar purchasing pattern and correlation coefficient\n",
    "# - for each customer from the list,\n",
    "#   - get the products purchased\n",
    "#   - multiply the purchased qty with customer correlation coefficient\n",
    "# - aggregate the qty_corr by product\n",
    "# - ignore the products already purchased by the input customer\n",
    "# - sort them by the qty_corr\n",
    "# - calls the html_code_table function to create a .html file for top 10 products customer may like\n",
    "\n",
    "def recommend_prod_cust(cust_name):\n",
    "    similar_custs_corr = cust_correlation_model.loc[cust_name].sort_values(ascending=False)\n",
    "    \n",
    "    prod_by_similar_custs = pd.DataFrame()\n",
    "    \n",
    "    # get the products purchased by each customer and multiply with the customer correlation coefficient\n",
    "    for i in range(len(similar_custs_corr)):\n",
    "        if similar_custs_corr.index[i] != cust_name:\n",
    "            cust_top_sell_prods = cust_prod_ranking_model[cust_prod_ranking_model['Party'] == similar_custs_corr.index[i]]\n",
    "            cust_top_sell_prods = cust_top_sell_prods[['Product','Qty','Rate']].reset_index(drop=True)\n",
    "            cust_top_sell_prods['Qty_Corr'] = cust_top_sell_prods['Qty'] * similar_custs_corr.iloc[i]\n",
    "            prod_by_similar_custs = pd.concat([cust_top_sell_prods,prod_by_similar_custs])\n",
    "    \n",
    "    # aggregate the Qty Correlation by Product\n",
    "    prod_by_similar_custs = prod_by_similar_custs.groupby('Product').agg({'Qty_Corr':'sum','Rate':'max'})\n",
    "    prod_by_similar_custs.reset_index(inplace=True)\n",
    "    #print(prod_by_similar_custs.head(20))\n",
    "    \n",
    "    # ignore the products already purchased by the input customer\n",
    "    # merge prod_by_similar_custs and customer purchased products and drop the rows with No_of_orders being Not Null\n",
    "    input_cust_top_sell_prods = cust_prod_ranking_model[cust_prod_ranking_model['Party'] == cust_name]\n",
    "    df_merge = pd.merge(prod_by_similar_custs,input_cust_top_sell_prods[['Product','No_of_Orders']],how='left',on='Product')\n",
    "    prod_recommend_to_cust = df_merge[df_merge['No_of_Orders'].isnull()]\n",
    "    \n",
    "    # sort the dataframe on Qty_Corr\n",
    "    prod_recommend_to_cust = prod_recommend_to_cust.sort_values('Qty_Corr',ascending=False)[['Product','Rate']].head(10).reset_index(drop=True)\n",
    "    \n",
    "    #print(prod_recommend_to_cust)\n",
    "    \n",
    "    html_code_table(prod_recommend_to_cust,'Products you may like','prodrecommendtable','center')"
   ]
  },
  {
   "cell_type": "markdown",
   "id": "d093b754",
   "metadata": {},
   "source": [
    "# Similar product to display"
   ]
  },
  {
   "cell_type": "code",
   "execution_count": 7,
   "id": "3a7a6776",
   "metadata": {},
   "outputs": [],
   "source": [
    "# This function performs the below functionality for the input product\n",
    "# - get the list of products with similar purchasing pattern and correlation coefficient\n",
    "# - get the price of each product from prod_ranking_model\n",
    "# - drop the product in view from the list\n",
    "# - sort them by the correlation coefficient\n",
    "# - calls the html_code_table function to create a .html file for top 10 products similar to the product in view\n",
    "\n",
    "def similar_prods(prod_name):\n",
    "    similar_prods_corr = prod_correlation_model.loc[prod_name].sort_values(ascending=False)\n",
    "    \n",
    "    similar_prods = pd.merge(similar_prods_corr,prod_ranking_model[['Product','Rate']],how='left',on='Product')\n",
    "    \n",
    "    drop_index = similar_prods[similar_prods['Product'] == prod_name].index\n",
    "    similar_prods.drop(index=drop_index,inplace=True)\n",
    "    \n",
    "    similar_prods = similar_prods[['Product','Rate']].head(10).reset_index(drop=True)\n",
    "    \n",
    "    #print(similar_prods)\n",
    "    \n",
    "    html_code_table(similar_prods,'Customers who purchased this product also purchased these','similarprodtable','left')"
   ]
  },
  {
   "cell_type": "code",
   "execution_count": 8,
   "id": "8bc22767",
   "metadata": {},
   "outputs": [],
   "source": [
    "#most_popular_table()\n",
    "#top_sell_table()\n",
    "\n",
    "#cust_name = str('DVR-CHITWELI').upper()\n",
    "#print(cust_name)\n",
    "\n",
    "#cust_most_popular_table(cust_name)\n",
    "#cust_top_sell_table(cust_name)\n",
    "\n",
    "\n",
    "#recommend_prod_cust(cust_name)\n",
    "\n",
    "\n",
    "#similar_prods('GOLD LEAF SITTING(1')"
   ]
  },
  {
   "cell_type": "code",
   "execution_count": 9,
   "id": "75e780f3",
   "metadata": {},
   "outputs": [
    {
     "name": "stdout",
     "output_type": "stream",
     "text": [
      " * Serving Flask app \"__main__\" (lazy loading)\n",
      " * Environment: production\n",
      "\u001b[31m   WARNING: This is a development server. Do not use it in a production deployment.\u001b[0m\n",
      "\u001b[2m   Use a production WSGI server instead.\u001b[0m\n",
      " * Debug mode: on\n"
     ]
    },
    {
     "name": "stderr",
     "output_type": "stream",
     "text": [
      " * Restarting with watchdog (windowsapi)\n"
     ]
    },
    {
     "ename": "SystemExit",
     "evalue": "1",
     "output_type": "error",
     "traceback": [
      "An exception has occurred, use %tb to see the full traceback.\n",
      "\u001b[1;31mSystemExit\u001b[0m\u001b[1;31m:\u001b[0m 1\n"
     ]
    },
    {
     "name": "stderr",
     "output_type": "stream",
     "text": [
      "C:\\Users\\santhoshkumar.m\\Anaconda3\\lib\\site-packages\\IPython\\core\\interactiveshell.py:3377: UserWarning: To exit: use 'exit', 'quit', or Ctrl-D.\n",
      "  warn(\"To exit: use 'exit', 'quit', or Ctrl-D.\", stacklevel=1)\n"
     ]
    }
   ],
   "source": [
    "@app.route(\"/\")\n",
    "def home():\n",
    "    most_popular_table()\n",
    "    top_sell_table()\n",
    "        \n",
    "    return render_template('home.html')\n",
    "\n",
    "\n",
    "@app.route(\"/login\")\n",
    "def login():\n",
    "    most_popular_table()\n",
    "    top_sell_table()\n",
    "    \n",
    "    cust_name = str(request.args.get('name')).upper()\n",
    "    #cust_name = str('balaji plastics').upper()\n",
    "    \n",
    "    if cust_name in cust_prod_ranking_model['Party'].unique():\n",
    "        cust_most_popular_table(cust_name)\n",
    "        cust_top_sell_table(cust_name)\n",
    "        recommend_prod_cust(cust_name)\n",
    "        return render_template('cust_home.html',name=cust_name,new='n')\n",
    "    else:\n",
    "        return render_template('cust_home.html',name=cust_name,new='y')\n",
    "\n",
    "    \n",
    "@app.route(\"/sim_prod\")\n",
    "def sim_prod():\n",
    "    prod_name = str(request.args.get('prod')).upper()\n",
    "    #cust_name = str('gold leaf sitting(1').upper()\n",
    "    \n",
    "    if prod_name in prod_ranking_model['Product'].unique():\n",
    "        similar_prods(prod_name)\n",
    "        return render_template('prod_view.html',prod=prod_name,exists='y')\n",
    "    else:\n",
    "        return render_template('prod_view.html',prod=prod_name,exists='n')\n",
    "\n",
    "\n",
    "if __name__ == \"__main__\":\n",
    "    app.run(debug=True)"
   ]
  },
  {
   "cell_type": "code",
   "execution_count": 10,
   "id": "48fe2454",
   "metadata": {},
   "outputs": [],
   "source": [
    "# when home.html is executed, displays 2 tables side by side and below these 2 text boxes for Customer Name and Product Name.\n",
    "# when Customer Name is entered and clicked on LOGIN button, same home.html is displayed with 3 other tables below.\n",
    "\n",
    "\n",
    "# base.html contains the title name in the top and my details in the bottom. It provides a place to insert the block in between\n",
    "\n",
    "# home.html - shows 2 tables and 2 text boxes. This code is inserted as a block in base.html\n",
    "\n",
    "# customer-home.html - executes"
   ]
  },
  {
   "cell_type": "code",
   "execution_count": null,
   "id": "da14e1c2",
   "metadata": {},
   "outputs": [],
   "source": []
  }
 ],
 "metadata": {
  "kernelspec": {
   "display_name": "Python 3 (ipykernel)",
   "language": "python",
   "name": "python3"
  },
  "language_info": {
   "codemirror_mode": {
    "name": "ipython",
    "version": 3
   },
   "file_extension": ".py",
   "mimetype": "text/x-python",
   "name": "python",
   "nbconvert_exporter": "python",
   "pygments_lexer": "ipython3",
   "version": "3.9.12"
  }
 },
 "nbformat": 4,
 "nbformat_minor": 5
}
